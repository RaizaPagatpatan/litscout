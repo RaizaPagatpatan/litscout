{
 "cells": [
  {
   "cell_type": "code",
   "execution_count": 32,
   "id": "a5861ac5-0418-4a56-9d83-d5304b2b81dd",
   "metadata": {},
   "outputs": [
    {
     "name": "stdout",
     "output_type": "stream",
     "text": [
      "Requirement already satisfied: openai in c:\\users\\raiza\\documents\\bscs thesis\\litscout_sp\\venv\\lib\\site-packages (0.28.0)\n",
      "Collecting openai\n",
      "  Using cached openai-1.52.0-py3-none-any.whl (386 kB)\n",
      "Requirement already satisfied: pydantic<3,>=1.9.0 in c:\\users\\raiza\\documents\\bscs thesis\\litscout_sp\\venv\\lib\\site-packages (from openai) (2.9.2)\n",
      "Requirement already satisfied: jiter<1,>=0.4.0 in c:\\users\\raiza\\documents\\bscs thesis\\litscout_sp\\venv\\lib\\site-packages (from openai) (0.6.1)\n",
      "Requirement already satisfied: tqdm>4 in c:\\users\\raiza\\documents\\bscs thesis\\litscout_sp\\venv\\lib\\site-packages (from openai) (4.66.5)\n",
      "Requirement already satisfied: distro<2,>=1.7.0 in c:\\users\\raiza\\documents\\bscs thesis\\litscout_sp\\venv\\lib\\site-packages (from openai) (1.9.0)\n",
      "Requirement already satisfied: httpx<1,>=0.23.0 in c:\\users\\raiza\\documents\\bscs thesis\\litscout_sp\\venv\\lib\\site-packages (from openai) (0.27.2)\n",
      "Requirement already satisfied: typing-extensions<5,>=4.11 in c:\\users\\raiza\\documents\\bscs thesis\\litscout_sp\\venv\\lib\\site-packages (from openai) (4.12.2)\n",
      "Requirement already satisfied: sniffio in c:\\users\\raiza\\documents\\bscs thesis\\litscout_sp\\venv\\lib\\site-packages (from openai) (1.3.1)\n",
      "Requirement already satisfied: anyio<5,>=3.5.0 in c:\\users\\raiza\\documents\\bscs thesis\\litscout_sp\\venv\\lib\\site-packages (from openai) (4.6.0)\n",
      "Requirement already satisfied: exceptiongroup>=1.0.2 in c:\\users\\raiza\\documents\\bscs thesis\\litscout_sp\\venv\\lib\\site-packages (from anyio<5,>=3.5.0->openai) (1.2.2)\n",
      "Requirement already satisfied: idna>=2.8 in c:\\users\\raiza\\documents\\bscs thesis\\litscout_sp\\venv\\lib\\site-packages (from anyio<5,>=3.5.0->openai) (3.10)\n",
      "Requirement already satisfied: httpcore==1.* in c:\\users\\raiza\\documents\\bscs thesis\\litscout_sp\\venv\\lib\\site-packages (from httpx<1,>=0.23.0->openai) (1.0.6)\n",
      "Requirement already satisfied: certifi in c:\\users\\raiza\\documents\\bscs thesis\\litscout_sp\\venv\\lib\\site-packages (from httpx<1,>=0.23.0->openai) (2024.8.30)\n",
      "Requirement already satisfied: h11<0.15,>=0.13 in c:\\users\\raiza\\documents\\bscs thesis\\litscout_sp\\venv\\lib\\site-packages (from httpcore==1.*->httpx<1,>=0.23.0->openai) (0.14.0)\n",
      "Requirement already satisfied: annotated-types>=0.6.0 in c:\\users\\raiza\\documents\\bscs thesis\\litscout_sp\\venv\\lib\\site-packages (from pydantic<3,>=1.9.0->openai) (0.7.0)\n",
      "Requirement already satisfied: pydantic-core==2.23.4 in c:\\users\\raiza\\documents\\bscs thesis\\litscout_sp\\venv\\lib\\site-packages (from pydantic<3,>=1.9.0->openai) (2.23.4)\n",
      "Requirement already satisfied: colorama in c:\\users\\raiza\\documents\\bscs thesis\\litscout_sp\\venv\\lib\\site-packages (from tqdm>4->openai) (0.4.6)\n",
      "Installing collected packages: openai\n",
      "  Attempting uninstall: openai\n",
      "    Found existing installation: openai 0.28.0\n",
      "    Uninstalling openai-0.28.0:\n",
      "      Successfully uninstalled openai-0.28.0\n",
      "Successfully installed openai-1.52.0\n",
      "Note: you may need to restart the kernel to use updated packages.\n"
     ]
    },
    {
     "name": "stderr",
     "output_type": "stream",
     "text": [
      "WARNING: You are using pip version 22.0.4; however, version 24.2 is available.\n",
      "You should consider upgrading via the 'c:\\Users\\Raiza\\Documents\\bscs thesis\\litscout_sp\\venv\\Scripts\\python.exe -m pip install --upgrade pip' command.\n"
     ]
    },
    {
     "name": "stdout",
     "output_type": "stream",
     "text": [
      "Requirement already satisfied: python-dotenv in c:\\users\\raiza\\documents\\bscs thesis\\litscout_sp\\venv\\lib\\site-packages (1.0.1)\n",
      "Note: you may need to restart the kernel to use updated packages.\n"
     ]
    },
    {
     "name": "stderr",
     "output_type": "stream",
     "text": [
      "WARNING: You are using pip version 22.0.4; however, version 24.2 is available.\n",
      "You should consider upgrading via the 'c:\\Users\\Raiza\\Documents\\bscs thesis\\litscout_sp\\venv\\Scripts\\python.exe -m pip install --upgrade pip' command.\n"
     ]
    }
   ],
   "source": [
    "%pip install --upgrade openai\n",
    "%pip install python-dotenv\n"
   ]
  },
  {
   "cell_type": "code",
   "execution_count": 38,
   "id": "647187b3",
   "metadata": {},
   "outputs": [
    {
     "name": "stdout",
     "output_type": "stream",
     "text": [
      "Collecting python-docxNote: you may need to restart the kernel to use updated packages.\n",
      "\n",
      "  Downloading python_docx-1.1.2-py3-none-any.whl (244 kB)\n",
      "     -------------------------------------- 244.3/244.3 KB 5.0 MB/s eta 0:00:00\n",
      "Requirement already satisfied: typing-extensions>=4.9.0 in c:\\users\\raiza\\documents\\bscs thesis\\litscout_sp\\venv\\lib\\site-packages (from python-docx) (4.12.2)\n",
      "Collecting lxml>=3.1.0\n",
      "  Downloading lxml-5.3.0-cp39-cp39-win_amd64.whl (3.8 MB)\n",
      "     ---------------------------------------- 3.8/3.8 MB 34.8 MB/s eta 0:00:00\n",
      "Installing collected packages: lxml, python-docx\n",
      "Successfully installed lxml-5.3.0 python-docx-1.1.2\n"
     ]
    },
    {
     "name": "stderr",
     "output_type": "stream",
     "text": [
      "WARNING: You are using pip version 22.0.4; however, version 24.2 is available.\n",
      "You should consider upgrading via the 'c:\\Users\\Raiza\\Documents\\bscs thesis\\litscout_sp\\venv\\Scripts\\python.exe -m pip install --upgrade pip' command.\n"
     ]
    }
   ],
   "source": [
    "%pip install python-docx"
   ]
  },
  {
   "cell_type": "code",
   "execution_count": 42,
   "id": "1f113df2-c94c-493e-9639-9c8bf5f95854",
   "metadata": {},
   "outputs": [
    {
     "name": "stdout",
     "output_type": "stream",
     "text": [
      ".env found\n",
      "API key found\n"
     ]
    }
   ],
   "source": [
    "from dotenv import load_dotenv\n",
    "import os\n",
    "from openai import OpenAI\n",
    "from docx import Document\n",
    "import json\n",
    "\n",
    "\n",
    "# Check existing files\n",
    "if os.path.exists('.env'):\n",
    "    print(\".env found\")\n",
    "\n",
    "# Get .env API\n",
    "load_dotenv()\n",
    "# api_key = os.getenv(\"OPENAI_API_KEY\")\n",
    "client = OpenAI(api_key=os.getenv(\"OPENAI_API_KEY\"))\n",
    "\n",
    "if client.api_key is None:\n",
    "    raise Exception(\"OpenAI API key not found. Make sure it is set in the .env file.\")\n",
    "else:\n",
    "    print(\"API key found\")\n",
    "\n",
    "# Initialize OpenAI client\n",
    "# openai.api_key = api_key"
   ]
  },
  {
   "cell_type": "code",
   "execution_count": 26,
   "id": "5a76d4b2-d005-41bc-ae19-edecb1822e7b",
   "metadata": {},
   "outputs": [],
   "source": [
    "def get_chatgpt_response(prompt):\n",
    "    try:\n",
    "        response = openai.ChatCompletion.create(\n",
    "            engine = \"gpt-4o-mini\",\n",
    "            messages=[{\"role\": \"user\", \"content\": prompt}],\n",
    "            # prompt = prompt,\n",
    "            max_tokens = 150,\n",
    "            temperature = 0.7\n",
    "        )\n",
    "        # return response.choices[0].message['content'].strip()\n",
    "        return response['choices'][0]['message']['content'].strip()\n",
    "    except Exception as e:\n",
    "        return f\"An error occurred: {e}\""
   ]
  },
  {
   "cell_type": "code",
   "execution_count": 27,
   "id": "e386714f-1229-47c3-83a3-afdf1d9a689f",
   "metadata": {},
   "outputs": [
    {
     "name": "stdout",
     "output_type": "stream",
     "text": [
      "An error occurred: \n",
      "\n",
      "You tried to access openai.ChatCompletion, but this is no longer supported in openai>=1.0.0 - see the README at https://github.com/openai/openai-python for the API.\n",
      "\n",
      "You can run `openai migrate` to automatically upgrade your codebase to use the 1.0.0 interface. \n",
      "\n",
      "Alternatively, you can pin your installation to the old version, e.g. `pip install openai==0.28`\n",
      "\n",
      "A detailed migration guide is available here: https://github.com/openai/openai-python/discussions/742\n",
      "\n"
     ]
    }
   ],
   "source": [
    "# Input\n",
    "user_prompt = input(\"Enter your prompt: \")\n",
    "# prompt = \"Hi\"\n",
    "# Response\n",
    "response = get_chatgpt_response(user_prompt)\n",
    "# response = get_chatgpt_response(prompt)\n",
    "print(response)\n",
    "\n"
   ]
  },
  {
   "cell_type": "code",
   "execution_count": 33,
   "id": "b82dd3ef-3426-42a3-810a-6689ea2438c7",
   "metadata": {},
   "outputs": [
    {
     "name": "stdout",
     "output_type": "stream",
     "text": [
      "Name: openai\n",
      "Version: 1.52.0\n",
      "Summary: The official Python library for the openai API\n",
      "Home-page: \n",
      "Author: \n",
      "Author-email: OpenAI <support@openai.com>\n",
      "License: \n",
      "Location: c:\\users\\raiza\\documents\\bscs thesis\\litscout_sp\\venv\\lib\\site-packages\n",
      "Requires: anyio, distro, httpx, jiter, pydantic, sniffio, tqdm, typing-extensions\n",
      "Required-by: \n",
      "Note: you may need to restart the kernel to use updated packages.\n"
     ]
    }
   ],
   "source": [
    "%pip show openai"
   ]
  },
  {
   "cell_type": "code",
   "execution_count": 46,
   "id": "257b4f74",
   "metadata": {},
   "outputs": [],
   "source": [
    "def get_chatgpt_response(user_message):\n",
    "    # System\n",
    "    messages = [\n",
    "        {\"role\": \"system\", \"content\": \"You are a helpful assistant.\"},\n",
    "        {\"role\": \"user\", \"content\": user_message}\n",
    "    ]\n",
    "    \n",
    "    try:\n",
    "        completion = client.chat.completions.create(\n",
    "            model=\"gpt-4o-mini\",  \n",
    "            messages=messages\n",
    "        )\n",
    "        return completion.choices[0].message.content.strip()  \n",
    "    except Exception as e:\n",
    "        return f\"An error occurred: {e}\"\n"
   ]
  },
  {
   "cell_type": "code",
   "execution_count": 37,
   "id": "335074df",
   "metadata": {},
   "outputs": [
    {
     "name": "stdout",
     "output_type": "stream",
     "text": [
      "Machine learning (ML) is a subfield of artificial intelligence (AI) that focuses on the development of algorithms and statistical models that enable computers to perform tasks without explicit instructions. Instead of being programmed for specific tasks, machine learning algorithms learn patterns from data and make predictions or decisions based on that data.\n",
      "\n",
      "Here's a breakdown of the key concepts in machine learning:\n",
      "\n",
      "### 1. **Data**: \n",
      "Data is fundamental to machine learning. It typically consists of input features (attributes or variables) and corresponding target outputs (labels or responses). The quality and quantity of the data greatly affect the performance of a machine learning model.\n",
      "\n",
      "### 2. **Types of Machine Learning**:\n",
      "- **Supervised Learning**: This involves training a model on labeled data, which means that the input data is paired with the correct output. The model learns to map inputs to outputs. Common applications include regression (predicting continuous values) and classification (predicting discrete categories).\n",
      "  \n",
      "- **Unsupervised Learning**: In this approach, the model is trained on data without labeled outputs. The goal is to discover inherent patterns or groupings in the data. Techniques include clustering (grouping similar data) and dimensionality reduction (reducing the number of variables).\n",
      "\n",
      "- **Semi-Supervised Learning**: This combines both supervised and unsupervised learning. It uses a small amount of labeled data along with a large amount of unlabeled data to improve learning accuracy.\n",
      "\n",
      "- **Reinforcement Learning**: In this type of learning, an agent interacts with an environment and learns to make decisions by receiving feedback in the form of rewards or penalties. The objective is to learn a strategy that maximizes cumulative rewards.\n",
      "\n",
      "### 3. **Algorithms**:\n",
      "There are various algorithms used in machine learning, each suited for different types of tasks. Some common ones include:\n",
      "- Linear Regression\n",
      "- Logistic Regression\n",
      "- Decision Trees\n",
      "- Support Vector Machines (SVM)\n",
      "- Neural Networks (including deep learning)\n",
      "- k-Nearest Neighbors (k-NN)\n",
      "- Random Forests\n",
      "- Gradient Boosting Machines (GBM)\n",
      "\n",
      "### 4. **Model Training**:\n",
      "Training a model involves feeding it data so it can learn the underlying patterns. This is often done using optimization techniques to minimize error in predictions. The process includes:\n",
      "- Splitting data into training and test sets\n",
      "- Fitting a model to the training data\n",
      "- Evaluating its performance on the test data\n",
      "\n",
      "### 5. **Evaluation Metrics**:\n",
      "To assess how well a model performs, several metrics can be used, such as:\n",
      "- Accuracy\n",
      "- Precision, Recall, F1-Score (for classification tasks)\n",
      "- Mean Squared Error (MSE) (for regression tasks)\n",
      "- ROC-AUC (for binary classification)\n",
      "\n",
      "### 6. **Overfitting and Underfitting**:\n",
      "- **Overfitting**: When a model learns the training data too well, including its noise and outliers, resulting in poor generalization to new data.\n",
      "- **Underfitting**: When a model is too simple to capture the underlying data structure, leading to poor performance on both training and test data.\n",
      "\n",
      "### 7. **Applications of Machine Learning**:\n",
      "Machine learning is applied in various fields, such as:\n",
      "- Healthcare (predicting diseases)\n",
      "- Finance (fraud detection)\n",
      "- Marketing (customer segmentation)\n",
      "- Image and speech recognition\n",
      "- Natural language processing (text analysis, chatbots)\n",
      "\n",
      "### Conclusion:\n",
      "Machine learning transforms the way we use data to make predictions and decisions. By leveraging algorithms and vast amounts of data, it enables automation and insights that were not previously possible with traditional programming methods. As technology advances, machine learning continues to evolve and find new applications in different domains.\n"
     ]
    }
   ],
   "source": [
    "\n",
    "if __name__ == \"__main__\":\n",
    "    user_input = input(\"Enter your message: \")\n",
    "    response = get_chatgpt_response(user_input)\n",
    "    print(response)"
   ]
  },
  {
   "cell_type": "code",
   "execution_count": 47,
   "id": "1b42d316",
   "metadata": {},
   "outputs": [],
   "source": [
    "# Function document <- JSON\n",
    "def create_word_doc_from_json(data, filename='output.docx'):\n",
    "    doc = Document()\n",
    "    doc.add_heading('ChatGPT Response', 0)\n",
    "\n",
    "    # add content\n",
    "    for key, value in data.items():\n",
    "        doc.add_paragraph(f\"{key}: {value}\")\n",
    "    \n",
    "    doc.save(filename)\n",
    "    print(f\"Document saved as {filename}\")\n"
   ]
  },
  {
   "cell_type": "code",
   "execution_count": 48,
   "id": "4d927d67",
   "metadata": {},
   "outputs": [],
   "source": [
    "\n",
    "# Response \n",
    "def get_chatgpt_response(user_message):\n",
    "    \n",
    "    messages = [\n",
    "        {\"role\": \"system\", \"content\": \"You are a helpful assistant.\"},\n",
    "        {\"role\": \"user\", \"content\": user_message}\n",
    "    ]\n",
    "    \n",
    "    try:\n",
    "        \n",
    "        completion = client.chat.completions.create(\n",
    "            model=\"gpt-4o-mini\",  \n",
    "            messages=messages\n",
    "        )\n",
    "        \n",
    "        # Parse response\n",
    "        response_json = completion.to_dict()\n",
    "        \n",
    "        # Save JSON -> Word docx\n",
    "        create_word_doc_from_json(response_json, filename='chatgpt_response.docx')\n",
    "        \n",
    "        return completion.choices[0].message.content.strip()  \n",
    "    \n",
    "    except Exception as e:\n",
    "        return f\"An error occurred: {e}\"\n"
   ]
  },
  {
   "cell_type": "code",
   "execution_count": 45,
   "id": "25909b13",
   "metadata": {},
   "outputs": [
    {
     "name": "stdout",
     "output_type": "stream",
     "text": [
      "Document saved as chatgpt_response.docx\n",
      "Killing a Wither in Minecraft can be challenging, but with the right preparations and strategy, it can be accomplished. Here’s a step-by-step guide to help you defeat a Wither:\n",
      "\n",
      "### Preparation\n",
      "\n",
      "1. **Gear Up:**\n",
      "   - **Armor:** Equip yourself with at least diamond armor. Enchanted armor (protection and unbreaking) is highly recommended.\n",
      "   - **Weapons:** A diamond or netherite sword is best. A bow with plenty of arrows will also help, especially with enchantments like Power.\n",
      "   - **Potions:** Brew potions such as:\n",
      "     - Strength: Increases your attack damage.\n",
      "     - Healing: Instant Health and Regeneration potions are useful.\n",
      "     - Speed: To help you dodge attacks.\n",
      "     - Fire Resistance: If necessary, for any unexpected damage.\n",
      "   - **Golden Apples** or **Enchanted Apples** are excellent for additional health boost.\n",
      "\n",
      "2. **Build a Shelter:**\n",
      "   - Choose a location away from your base. A flat area is ideal, or you can build a small bunker to take cover from the Wither’s attacks.\n",
      "   - Consider building a box that you can hide in to avoid the Wither’s explosions.\n",
      "\n",
      "3. **Summon the Wither:**\n",
      "   - Gather the materials: You need 3 Wither Skeleton skulls and 4 Soul Sand or Soul Soil blocks.\n",
      "   - Create a \"T\" shape with the Soul Sand and place the three skulls on top of the upper row to summon the Wither.\n",
      "\n",
      "### During the Fight\n",
      "\n",
      "1. **Attract Its Attention:**\n",
      "   - When you summon the Wither, it will start charging up and explode. Get away quickly to avoid damage from the explosion.\n",
      "\n",
      "2. **Use Ranged Attacks:**\n",
      "   - While the Wither is charging, shoot it with your bow and arrows. Wait for it to lose its charge and then move in closer for melee attacks.\n",
      "   - Once the Wither has full health (around half its maximum health), it will start firing wither skulls at you.\n",
      "\n",
      "3. **Dodge Its Attacks:**\n",
      "   - The Wither will shoot explosive skulls that can deal significant damage and cause the Wither effect. Try to keep moving to avoid getting hit.\n",
      "   - Utilize your surroundings for cover when the Wither is attacking.\n",
      "\n",
      "4. **Melee Combat:**\n",
      "   - Once the Wither is at half health (which is indicated when it starts to have a black aura), it will stop flying and descend. This is your chance to go in for melee attacks. Use your sword when it’s on the ground.\n",
      "\n",
      "5. **Use Healing Items:**\n",
      "   - Keep your health up with potions and Golden Apples. If you get withered, make sure to heal quickly.\n",
      "\n",
      "6. **Stay Mobile:**\n",
      "   - The Wither can fly and move quickly. Keep your distance when needed, and get in for hits when you can.\n",
      "\n",
      "### After the Fight\n",
      "\n",
      "- When defeated, the Wither will drop the **Nether Star**, which can be used to craft a beacon.\n",
      "- Make sure to collect any loot and prepare for possible aftermath attacks if you're close to other mobs.\n",
      "\n",
      "### Additional Tips\n",
      "- If you find the fight too challenging, consider gathering friends to help, as the Wither can be taken down more easily with multiple players.\n",
      "- You can also prepare a large quantity of healing items and potions to increase your chances of survival.\n",
      "\n",
      "Good luck in your battle against the Wither!\n"
     ]
    }
   ],
   "source": [
    "\n",
    "# input\n",
    "if __name__ == \"__main__\":\n",
    "    user_input = input(\"Enter your message: \")\n",
    "    response = get_chatgpt_response(user_input)\n",
    "    print(response)"
   ]
  },
  {
   "cell_type": "code",
   "execution_count": null,
   "id": "755a1554",
   "metadata": {},
   "outputs": [],
   "source": []
  }
 ],
 "metadata": {
  "kernelspec": {
   "display_name": "venv",
   "language": "python",
   "name": "python3"
  },
  "language_info": {
   "codemirror_mode": {
    "name": "ipython",
    "version": 3
   },
   "file_extension": ".py",
   "mimetype": "text/x-python",
   "name": "python",
   "nbconvert_exporter": "python",
   "pygments_lexer": "ipython3",
   "version": "3.9.13"
  }
 },
 "nbformat": 4,
 "nbformat_minor": 5
}
